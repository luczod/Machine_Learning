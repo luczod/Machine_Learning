{
    "cells": [
        {
            "attachments": {},
            "cell_type": "markdown",
            "metadata": {
                "colab_type": "text",
                "id": "vPKTIRAtx232"
            },
            "source": [
                "## Thompson Sampling\n"
            ]
        },
        {
            "attachments": {},
            "cell_type": "markdown",
            "metadata": {
                "colab_type": "text",
                "id": "PqPv9zpAx-EE"
            },
            "source": [
                "### Importing the libraries\n"
            ]
        },
        {
            "cell_type": "code",
            "execution_count": null,
            "metadata": {
                "colab": {},
                "colab_type": "code",
                "id": "lozuE-Fhx_QB",
                "vscode": {
                    "languageId": "python"
                }
            },
            "outputs": [],
            "source": [
                "import numpy as np\n",
                "import matplotlib.pyplot as plt\n",
                "import pandas as pd"
            ]
        },
        {
            "attachments": {},
            "cell_type": "markdown",
            "metadata": {
                "colab_type": "text",
                "id": "iqpVk5HhyGmO"
            },
            "source": [
                "### Importing the dataset\n"
            ]
        },
        {
            "cell_type": "code",
            "execution_count": null,
            "metadata": {
                "colab": {},
                "colab_type": "code",
                "id": "kY4zzW4hyNfA",
                "vscode": {
                    "languageId": "python"
                }
            },
            "outputs": [],
            "source": [
                "dataset = pd.read_csv('Ads_CTR_Optimisation.csv')"
            ]
        },
        {
            "attachments": {},
            "cell_type": "markdown",
            "metadata": {
                "colab_type": "text",
                "id": "WqoXeWOYyQhB"
            },
            "source": [
                "### Implementing Thompson Sampling\n"
            ]
        },
        {
            "cell_type": "code",
            "execution_count": null,
            "metadata": {
                "colab": {},
                "colab_type": "code",
                "id": "PCiHv51pyUII",
                "vscode": {
                    "languageId": "python"
                }
            },
            "outputs": [],
            "source": [
                "import random\n",
                "N = 10000\n",
                "d = 10\n",
                "ads_selected = []\n",
                "numbers_of_rewards_1 = [0] * d\n",
                "numbers_of_rewards_0 = [0] * d\n",
                "total_reward = 0\n",
                "for n in range(0, N):\n",
                "    ad = 0\n",
                "    max_random = 0\n",
                "    for i in range(0, d):\n",
                "        random_beta = random.betavariate(\n",
                "            numbers_of_rewards_1[i] + 1, numbers_of_rewards_0[i] + 1)\n",
                "        if random_beta > max_random:\n",
                "            max_random = random_beta\n",
                "            ad = i\n",
                "    ads_selected.append(ad)\n",
                "    reward = dataset.values[n, ad]\n",
                "    if reward == 1:\n",
                "        numbers_of_rewards_1[ad] = numbers_of_rewards_1[ad] + 1\n",
                "    else:\n",
                "        numbers_of_rewards_0[ad] = numbers_of_rewards_0[ad] + 1\n",
                "    total_reward = total_reward + reward"
            ]
        },
        {
            "attachments": {},
            "cell_type": "markdown",
            "metadata": {
                "colab_type": "text",
                "id": "tweWsgTHyXhv"
            },
            "source": [
                "### Visualising the results - Histogram\n"
            ]
        },
        {
            "cell_type": "code",
            "execution_count": null,
            "metadata": {
                "colab": {
                    "base_uri": "https://localhost:8080/",
                    "height": 295
                },
                "colab_type": "code",
                "executionInfo": {
                    "elapsed": 2001,
                    "status": "ok",
                    "timestamp": 1586416557302,
                    "user": {
                        "displayName": "Hadelin de Ponteves",
                        "photoUrl": "https://lh3.googleusercontent.com/a-/AOh14GhEuXdT7eQweUmRPW8_laJuPggSK6hfvpl5a6WBaA=s64",
                        "userId": "15047218817161520419"
                    },
                    "user_tz": -240
                },
                "id": "k8DJmN06yak3",
                "outputId": "82f5fc5a-b478-410e-eeb2-b09c4b72c979",
                "vscode": {
                    "languageId": "python"
                }
            },
            "outputs": [],
            "source": [
                "plt.hist(ads_selected)\n",
                "plt.title('Histogram of ads selections')\n",
                "plt.xlabel('Ads')\n",
                "plt.ylabel('Number of times each ad was selected')\n",
                "plt.show()"
            ]
        }
    ],
    "metadata": {
        "colab": {
            "authorship_tag": "ABX9TyPYgZhJufkFAsCxlwVcjHND",
            "collapsed_sections": [],
            "name": "Thompson Sampling",
            "provenance": [],
            "toc_visible": true
        },
        "kernelspec": {
            "display_name": "Python 3",
            "name": "python3"
        }
    },
    "nbformat": 4,
    "nbformat_minor": 0
}
