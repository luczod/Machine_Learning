{
    "cells":
    [
        {
            "attachments":
            {},
            "cell_type": "markdown",
            "metadata":
            {
                "colab_type": "text",
                "id": "CazISR8X_HUG"
            },
            "source":
            [
                "## Multiple Linear Regression\n",
                "\n",
                "$\n",
                "y = \\beta_0 + \\beta_1 X_1 + \\beta_2 X_2 + ... + + \\beta_n X_n\n",
                "$\n",
                "\n",
                "- Anscombe's quartet\n",
                "- Multiple Linear Regression assumptions\n",
                "- Dummy Variable Trap\n",
                "- P-value\n",
                "- Backward Elimination\n",
                "- Statistical Significance ($\\alpha$) or SL\n"
            ]
        },
        {
            "attachments":
            {},
            "cell_type": "markdown",
            "metadata":
            {
                "colab_type": "text",
                "id": "pOyqYHTk_Q57"
            },
            "source":
            [
                "### Importing the libraries\n"
            ]
        },
        {
            "cell_type": "code",
            "execution_count": null,
            "metadata":
            {
                "colab":
                {},
                "colab_type": "code",
                "id": "T_YHJjnD_Tja"
            },
            "outputs":
            [],
            "source":
            [
                "import numpy as np\n",
                "import matplotlib.pyplot as plt\n",
                "import pandas as pd"
            ]
        },
        {
            "attachments":
            {},
            "cell_type": "markdown",
            "metadata":
            {
                "colab_type": "text",
                "id": "vgC61-ah_WIz"
            },
            "source":
            [
                "### Importing the dataset\n"
            ]
        },
        {
            "cell_type": "code",
            "execution_count": null,
            "metadata":
            {
                "colab":
                {},
                "colab_type": "code",
                "id": "UrxyEKGn_ez7"
            },
            "outputs":
            [],
            "source":
            [
                "dataset = pd.read_csv('50_Startups.csv')\n",
                "X = dataset.iloc[:, :-1].values\n",
                "y = dataset.iloc[:, -1].values"
            ]
        },
        {
            "cell_type": "code",
            "execution_count": null,
            "metadata":
            {
                "colab":
                {
                    "base_uri": "https://localhost:8080/",
                    "height": 857
                },
                "colab_type": "code",
                "executionInfo":
                {
                    "elapsed": 552,
                    "status": "ok",
                    "timestamp": 1586353652778,
                    "user":
                    {
                        "displayName": "Hadelin de Ponteves",
                        "photoUrl": "https://lh3.googleusercontent.com/a-/AOh14GhEuXdT7eQweUmRPW8_laJuPggSK6hfvpl5a6WBaA=s64",
                        "userId": "15047218817161520419"
                    },
                    "user_tz": -240
                },
                "id": "GOB3QhV9B5kD",
                "outputId": "4a05377a-2db2-43fc-b824-a0710448baee"
            },
            "outputs":
            [],
            "source":
            [
                "print(X)"
            ]
        },
        {
            "attachments":
            {},
            "cell_type": "markdown",
            "metadata":
            {
                "colab_type": "text",
                "id": "VadrvE7s_lS9"
            },
            "source":
            [
                "### Encoding categorical data\n"
            ]
        },
        {
            "cell_type": "code",
            "execution_count": null,
            "metadata":
            {},
            "outputs":
            [],
            "source":
            [
                "# one hot encoding\n",
                "from sklearn.compose import ColumnTransformer\n",
                "from sklearn.preprocessing import OneHotEncoder\n",
                "ct = ColumnTransformer(\n",
                "    transformers=[('encoder', OneHotEncoder(), [3])], remainder='passthrough')\n",
                "X = np.array(ct.fit_transform(X))\n",
                "print(X)"
            ]
        },
        {
            "attachments":
            {},
            "cell_type": "markdown",
            "metadata":
            {
                "colab_type": "text",
                "id": "WemVnqgeA70k"
            },
            "source":
            [
                "### Splitting the dataset into the Training set and Test set\n"
            ]
        },
        {
            "cell_type": "code",
            "execution_count": null,
            "metadata":
            {},
            "outputs":
            [],
            "source":
            [
                "from sklearn.model_selection import train_test_split\n",
                "X_train, X_test, y_train, y_test = train_test_split(\n",
                "    X, y, test_size=0.2, random_state=0)"
            ]
        },
        {
            "attachments":
            {},
            "cell_type": "markdown",
            "metadata":
            {
                "colab_type": "text",
                "id": "k-McZVsQBINc"
            },
            "source":
            [
                "### Training the Multiple Linear Regression model on the Training set\n"
            ]
        },
        {
            "cell_type": "code",
            "execution_count": null,
            "metadata":
            {},
            "outputs":
            [],
            "source":
            [
                "from sklearn.linear_model import LinearRegression\n",
                "regressor = LinearRegression()\n",
                "regressor.fit(X_train, y_train)\n"
            ]
        },
        {
            "attachments":
            {},
            "cell_type": "markdown",
            "metadata":
            {
                "colab_type": "text",
                "id": "xNkXL1YQBiBT"
            },
            "source":
            [
                "### Predicting the Test set results\n"
            ]
        },
        {
            "cell_type": "code",
            "execution_count": null,
            "metadata":
            {},
            "outputs":
            [],
            "source":
            [
                "# try other models and compare the performance\n",
                "y_pred = regressor.predict(X_test)\n",
                "np.set_printoptions(precision=2)\n",
                "\n",
                "array_pred = y_pred.reshape(len(y_pred), 1)\n",
                "array_test = y_test.reshape(len(y_test), 1)\n",
                "\n",
                "print(np.concatenate((array_pred, array_test), 1))"
            ]
        }
    ],
    "metadata":
    {
        "colab":
        {
            "authorship_tag": "ABX9TyPhYhte6t7H4wEK4xPpDWT7",
            "name": "Multiple Linear Regression",
            "provenance":
            [],
            "toc_visible": true
        },
        "kernelspec":
        {
            "display_name": "Python 3",
            "name": "python3"
        },
        "language_info":
        {
            "codemirror_mode":
            {
                "name": "ipython",
                "version": 3
            },
            "file_extension": ".py",
            "mimetype": "text/x-python",
            "name": "python",
            "nbconvert_exporter": "python",
            "pygments_lexer": "ipython3",
            "version": "3.11.8"
        }
    },
    "nbformat": 4,
    "nbformat_minor": 0
}